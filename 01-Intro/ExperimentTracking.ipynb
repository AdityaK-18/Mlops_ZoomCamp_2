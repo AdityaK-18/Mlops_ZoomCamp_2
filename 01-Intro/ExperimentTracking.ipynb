{
 "cells": [
  {
   "cell_type": "markdown",
   "id": "4ed5582e-6e62-4e24-91a2-a79ad0db5d59",
   "metadata": {},
   "source": [
    "Question 1. Install MLflow (1 point)"
   ]
  },
  {
   "cell_type": "code",
   "execution_count": null,
   "id": "dfd6baaa-9fd7-4089-9cba-7764245de360",
   "metadata": {},
   "outputs": [],
   "source": []
  }
 ],
 "metadata": {
  "kernelspec": {
   "display_name": "Python 3 (ipykernel)",
   "language": "python",
   "name": "python3"
  },
  "language_info": {
   "codemirror_mode": {
    "name": "ipython",
    "version": 3
   },
   "file_extension": ".py",
   "mimetype": "text/x-python",
   "name": "python",
   "nbconvert_exporter": "python",
   "pygments_lexer": "ipython3",
   "version": "3.12.2"
  }
 },
 "nbformat": 4,
 "nbformat_minor": 5
}
